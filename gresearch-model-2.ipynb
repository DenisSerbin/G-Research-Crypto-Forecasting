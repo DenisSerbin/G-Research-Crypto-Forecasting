{
 "cells": [
  {
   "cell_type": "code",
   "execution_count": 1,
   "id": "cd4cbc03",
   "metadata": {
    "execution": {
     "iopub.execute_input": "2022-02-01T13:19:51.859175Z",
     "iopub.status.busy": "2022-02-01T13:19:51.857395Z",
     "iopub.status.idle": "2022-02-01T13:19:51.896215Z",
     "shell.execute_reply": "2022-02-01T13:19:51.896852Z",
     "shell.execute_reply.started": "2022-02-01T05:38:25.668900Z"
    },
    "papermill": {
     "duration": 0.064015,
     "end_time": "2022-02-01T13:19:51.897171",
     "exception": false,
     "start_time": "2022-02-01T13:19:51.833156",
     "status": "completed"
    },
    "tags": []
   },
   "outputs": [],
   "source": [
    "import gresearch_crypto"
   ]
  },
  {
   "cell_type": "code",
   "execution_count": 2,
   "id": "6b6d0cb0",
   "metadata": {
    "execution": {
     "iopub.execute_input": "2022-02-01T13:19:51.940843Z",
     "iopub.status.busy": "2022-02-01T13:19:51.939834Z",
     "iopub.status.idle": "2022-02-01T13:19:51.961472Z",
     "shell.execute_reply": "2022-02-01T13:19:51.961942Z",
     "shell.execute_reply.started": "2022-02-01T05:38:27.164981Z"
    },
    "papermill": {
     "duration": 0.043716,
     "end_time": "2022-02-01T13:19:51.962130",
     "exception": false,
     "start_time": "2022-02-01T13:19:51.918414",
     "status": "completed"
    },
    "tags": []
   },
   "outputs": [
    {
     "name": "stdout",
     "output_type": "stream",
     "text": [
      "/kaggle/input/g-research-crypto-forecasting/example_sample_submission.csv\n",
      "/kaggle/input/g-research-crypto-forecasting/asset_details.csv\n",
      "/kaggle/input/g-research-crypto-forecasting/example_test.csv\n",
      "/kaggle/input/g-research-crypto-forecasting/train.csv\n",
      "/kaggle/input/g-research-crypto-forecasting/supplemental_train.csv\n",
      "/kaggle/input/g-research-crypto-forecasting/gresearch_crypto/competition.cpython-37m-x86_64-linux-gnu.so\n",
      "/kaggle/input/g-research-crypto-forecasting/gresearch_crypto/__init__.py\n",
      "/kaggle/input/modeljan152022/ExpModel_1.hdf5\n",
      "/kaggle/input/scaler3/scaler-3.save\n"
     ]
    }
   ],
   "source": [
    "# This Python 3 environment comes with many helpful analytics libraries installed\n",
    "# It is defined by the kaggle/python Docker image: https://github.com/kaggle/docker-python\n",
    "# For example, here's several helpful packages to load\n",
    "\n",
    "import numpy as np # linear algebra\n",
    "import pandas as pd # data processing, CSV file I/O (e.g. pd.read_csv)\n",
    "\n",
    "# Input data files are available in the read-only \"../input/\" directory\n",
    "# For example, running this (by clicking run or pressing Shift+Enter) will list all files under the input directory\n",
    "\n",
    "import os\n",
    "for dirname, _, filenames in os.walk('/kaggle/input'):\n",
    "    for filename in filenames:\n",
    "        print(os.path.join(dirname, filename))\n",
    "\n",
    "# You can write up to 20GB to the current directory (/kaggle/working/) that gets preserved as output when you create a version using \"Save & Run All\" \n",
    "# You can also write temporary files to /kaggle/temp/, but they won't be saved outside of the current session"
   ]
  },
  {
   "cell_type": "code",
   "execution_count": 3,
   "id": "785daf05",
   "metadata": {
    "execution": {
     "iopub.execute_input": "2022-02-01T13:19:52.003005Z",
     "iopub.status.busy": "2022-02-01T13:19:52.002036Z",
     "iopub.status.idle": "2022-02-01T13:19:57.652586Z",
     "shell.execute_reply": "2022-02-01T13:19:57.651941Z",
     "shell.execute_reply.started": "2022-02-01T05:38:32.446616Z"
    },
    "papermill": {
     "duration": 5.671838,
     "end_time": "2022-02-01T13:19:57.652739",
     "exception": false,
     "start_time": "2022-02-01T13:19:51.980901",
     "status": "completed"
    },
    "tags": []
   },
   "outputs": [
    {
     "data": {
      "text/html": [
       "<style type='text/css'>\n",
       ".datatable table.frame { margin-bottom: 0; }\n",
       ".datatable table.frame thead { border-bottom: none; }\n",
       ".datatable table.frame tr.coltypes td {  color: #FFFFFF;  line-height: 6px;  padding: 0 0.5em;}\n",
       ".datatable .bool    { background: #DDDD99; }\n",
       ".datatable .object  { background: #565656; }\n",
       ".datatable .int     { background: #5D9E5D; }\n",
       ".datatable .float   { background: #4040CC; }\n",
       ".datatable .str     { background: #CC4040; }\n",
       ".datatable .time    { background: #40CC40; }\n",
       ".datatable .row_index {  background: var(--jp-border-color3);  border-right: 1px solid var(--jp-border-color0);  color: var(--jp-ui-font-color3);  font-size: 9px;}\n",
       ".datatable .frame tbody td { text-align: left; }\n",
       ".datatable .frame tr.coltypes .row_index {  background: var(--jp-border-color0);}\n",
       ".datatable th:nth-child(2) { padding-left: 12px; }\n",
       ".datatable .hellipsis {  color: var(--jp-cell-editor-border-color);}\n",
       ".datatable .vellipsis {  background: var(--jp-layout-color0);  color: var(--jp-cell-editor-border-color);}\n",
       ".datatable .na {  color: var(--jp-cell-editor-border-color);  font-size: 80%;}\n",
       ".datatable .sp {  opacity: 0.25;}\n",
       ".datatable .footer { font-size: 9px; }\n",
       ".datatable .frame_dimensions {  background: var(--jp-border-color3);  border-top: 1px solid var(--jp-border-color0);  color: var(--jp-ui-font-color3);  display: inline-block;  opacity: 0.6;  padding: 1px 10px 1px 5px;}\n",
       "</style>\n"
      ],
      "text/plain": [
       "<IPython.core.display.HTML object>"
      ]
     },
     "metadata": {},
     "output_type": "display_data"
    },
    {
     "name": "stderr",
     "output_type": "stream",
     "text": [
      "2022-02-01 13:19:53.561361: W tensorflow/stream_executor/platform/default/dso_loader.cc:60] Could not load dynamic library 'libcudart.so.11.0'; dlerror: libcudart.so.11.0: cannot open shared object file: No such file or directory; LD_LIBRARY_PATH: /opt/conda/lib\n",
      "2022-02-01 13:19:53.561468: I tensorflow/stream_executor/cuda/cudart_stub.cc:29] Ignore above cudart dlerror if you do not have a GPU set up on your machine.\n"
     ]
    }
   ],
   "source": [
    "#import warnings\n",
    "#warnings.filterwarnings('ignore')\n",
    "\n",
    "import datatable as dt\n",
    "import gc\n",
    "# import cudf\n",
    "import pandas as pd\n",
    "import numpy as np\n",
    "# import cupy as cp\n",
    "# import janestreet\n",
    "#import xgboost as xgb\n",
    "#from hyperopt import hp, fmin, tpe, Trials\n",
    "#from hyperopt.pyll.base import scope\n",
    "from sklearn.metrics import mean_squared_error, roc_auc_score, roc_curve\n",
    "#from sklearn.model_selection import GroupKFold\n",
    "#from sklearn.preprocessing import StandardScaler\n",
    "#from sklearn.pipeline import Pipeline\n",
    "#import matplotlib.pyplot as plt\n",
    "from tqdm.notebook import tqdm\n",
    "#from joblib import dump, load\n",
    "\n",
    "import tensorflow as tf\n",
    "#tf.random.set_seed(42)\n",
    "import tensorflow.keras.backend as K\n",
    "import tensorflow.keras.layers as layers"
   ]
  },
  {
   "cell_type": "code",
   "execution_count": 4,
   "id": "f7456e7a",
   "metadata": {
    "execution": {
     "iopub.execute_input": "2022-02-01T13:19:57.695507Z",
     "iopub.status.busy": "2022-02-01T13:19:57.694799Z",
     "iopub.status.idle": "2022-02-01T13:21:10.934974Z",
     "shell.execute_reply": "2022-02-01T13:21:10.935531Z",
     "shell.execute_reply.started": "2022-02-01T05:38:47.075168Z"
    },
    "papermill": {
     "duration": 73.263417,
     "end_time": "2022-02-01T13:21:10.935717",
     "exception": false,
     "start_time": "2022-02-01T13:19:57.672300",
     "status": "completed"
    },
    "tags": []
   },
   "outputs": [
    {
     "name": "stdout",
     "output_type": "stream",
     "text": [
      "CPU times: user 42.7 s, sys: 6 s, total: 48.7 s\n",
      "Wall time: 1min 13s\n"
     ]
    }
   ],
   "source": [
    "%%time\n",
    "crypto_df = pd.read_csv('../input/g-research-crypto-forecasting/train.csv')\n",
    "suppl_df = pd.read_csv('../input/g-research-crypto-forecasting/supplemental_train.csv')\n",
    "\n",
    "asset_details = pd.read_csv('../input/g-research-crypto-forecasting/asset_details.csv')\n",
    "\n",
    "train_data_start = 1555079640\n",
    "train_data_end = 1623542400\n",
    "\n",
    "data_1 = crypto_df.loc[(crypto_df['timestamp'] >= train_data_start) & (crypto_df['timestamp'] <= train_data_end)]\n",
    "data_2 = suppl_df.loc[suppl_df['timestamp'] > train_data_end]\n",
    "\n",
    "total_df = pd.concat([data_1, data_2])\n",
    "\n",
    "total_df = total_df.merge(asset_details, on='Asset_ID')\n",
    "\n",
    "weights = asset_details.sort_values(by = ['Asset_ID'], ascending = True)[['Weight']].T"
   ]
  },
  {
   "cell_type": "code",
   "execution_count": 5,
   "id": "d856deb8",
   "metadata": {
    "execution": {
     "iopub.execute_input": "2022-02-01T13:21:10.986569Z",
     "iopub.status.busy": "2022-02-01T13:21:10.985495Z",
     "iopub.status.idle": "2022-02-01T13:21:13.820269Z",
     "shell.execute_reply": "2022-02-01T13:21:13.819602Z",
     "shell.execute_reply.started": "2022-02-01T05:39:55.924618Z"
    },
    "papermill": {
     "duration": 2.86566,
     "end_time": "2022-02-01T13:21:13.820428",
     "exception": false,
     "start_time": "2022-02-01T13:21:10.954768",
     "status": "completed"
    },
    "tags": []
   },
   "outputs": [],
   "source": [
    "df = total_df\n",
    "\n",
    "bnb = df[df['Asset_ID'] == 0].set_index(\"timestamp\")\n",
    "btc = df[df['Asset_ID'] == 1].set_index(\"timestamp\")\n",
    "bch = df[df['Asset_ID'] == 2].set_index(\"timestamp\")\n",
    "ada = df[df['Asset_ID'] == 3].set_index(\"timestamp\")\n",
    "doge = df[df['Asset_ID'] == 4].set_index(\"timestamp\")\n",
    "eos = df[df['Asset_ID'] == 5].set_index(\"timestamp\")\n",
    "eth = df[df['Asset_ID'] == 6].set_index(\"timestamp\")\n",
    "etc = df[df['Asset_ID'] == 7].set_index(\"timestamp\")\n",
    "miota = df[df['Asset_ID'] == 8].set_index(\"timestamp\")\n",
    "ltc = df[df['Asset_ID'] == 9].set_index(\"timestamp\")\n",
    "mkr = df[df['Asset_ID'] == 10].set_index(\"timestamp\")\n",
    "xmr = df[df['Asset_ID'] == 11].set_index(\"timestamp\")\n",
    "xlm = df[df['Asset_ID'] == 12].set_index(\"timestamp\")\n",
    "trx = df[df['Asset_ID'] == 13].set_index(\"timestamp\")"
   ]
  },
  {
   "cell_type": "code",
   "execution_count": 6,
   "id": "364d0887",
   "metadata": {
    "execution": {
     "iopub.execute_input": "2022-02-01T13:21:13.874603Z",
     "iopub.status.busy": "2022-02-01T13:21:13.873892Z",
     "iopub.status.idle": "2022-02-01T13:21:14.266828Z",
     "shell.execute_reply": "2022-02-01T13:21:14.266204Z",
     "shell.execute_reply.started": "2022-02-01T05:40:08.715707Z"
    },
    "papermill": {
     "duration": 0.427226,
     "end_time": "2022-02-01T13:21:14.266974",
     "exception": false,
     "start_time": "2022-02-01T13:21:13.839748",
     "status": "completed"
    },
    "tags": []
   },
   "outputs": [],
   "source": [
    "bnb_last_month = bnb[['Open','High','Low','Close','VWAP']].loc[1629503040 : ]\n",
    "bnb_mean = pd.DataFrame(bnb_last_month.mean()).T\n",
    "\n",
    "btc_last_month = btc[['Open','High','Low','Close','VWAP']].loc[1629503040 : ]\n",
    "btc_mean = pd.DataFrame(btc_last_month.mean()).T\n",
    "\n",
    "bch_last_month = bch[['Open','High','Low','Close','VWAP']].loc[1629503040 : ]\n",
    "bch_mean = pd.DataFrame(bch_last_month.mean()).T\n",
    "\n",
    "ada_last_month = ada[['Open','High','Low','Close','VWAP']].loc[1629503040 : ]\n",
    "ada_mean = pd.DataFrame(ada_last_month.mean()).T\n",
    "\n",
    "doge_last_month = doge[['Open','High','Low','Close','VWAP']].loc[1629503040 : ]\n",
    "doge_mean = pd.DataFrame(doge_last_month.mean()).T\n",
    "\n",
    "eos_last_month = eos[['Open','High','Low','Close','VWAP']].loc[1629503040 : ]\n",
    "eos_mean = pd.DataFrame(eos_last_month.mean()).T\n",
    "\n",
    "eth_last_month = eth[['Open','High','Low','Close','VWAP']].loc[1629503040 : ]\n",
    "eth_mean = pd.DataFrame(eth_last_month.mean()).T\n",
    "\n",
    "etc_last_month = etc[['Open','High','Low','Close','VWAP']].loc[1629503040 : ]\n",
    "etc_mean = pd.DataFrame(etc_last_month.mean()).T\n",
    "\n",
    "miota_last_month = miota[['Open','High','Low','Close','VWAP']].loc[1629503040 : ]\n",
    "miota_mean = pd.DataFrame(miota_last_month.mean()).T\n",
    "\n",
    "ltc_last_month = ltc[['Open','High','Low','Close','VWAP']].loc[1629503040 : ]\n",
    "ltc_mean = pd.DataFrame(ltc_last_month.mean()).T\n",
    "\n",
    "mkr_last_month = mkr[['Open','High','Low','Close','VWAP']].loc[1629503040 : ]\n",
    "mkr_mean = pd.DataFrame(mkr_last_month.mean()).T\n",
    "\n",
    "xmr_last_month = xmr[['Open','High','Low','Close','VWAP']].loc[1629503040 : ]\n",
    "xmr_mean = pd.DataFrame(xmr_last_month.mean()).T\n",
    "\n",
    "xlm_last_month = xlm[['Open','High','Low','Close','VWAP']].loc[1629503040 : ]\n",
    "xlm_mean = pd.DataFrame(xlm_last_month.mean()).T\n",
    "\n",
    "trx_last_month = trx[['Open','High','Low','Close','VWAP']].loc[1629503040 : ]\n",
    "trx_mean = pd.DataFrame(trx_last_month.mean()).T\n",
    "\n",
    "means = pd.concat([bnb_mean, \n",
    "                  btc_mean, \n",
    "                  bch_mean, \n",
    "                  ada_mean, \n",
    "                  doge_mean, \n",
    "                  eos_mean, \n",
    "                  eth_mean, \n",
    "                  etc_mean, \n",
    "                  miota_mean, \n",
    "                  ltc_mean, \n",
    "                  mkr_mean, \n",
    "                  xmr_mean, \n",
    "                  xlm_mean, \n",
    "                  trx_mean])\n",
    "\n",
    "means.reset_index(drop=True, inplace=True)"
   ]
  },
  {
   "cell_type": "code",
   "execution_count": 7,
   "id": "a03a01f7",
   "metadata": {
    "execution": {
     "iopub.execute_input": "2022-02-01T13:21:14.668541Z",
     "iopub.status.busy": "2022-02-01T13:21:14.457512Z",
     "iopub.status.idle": "2022-02-01T13:21:18.409946Z",
     "shell.execute_reply": "2022-02-01T13:21:18.409329Z",
     "shell.execute_reply.started": "2022-02-01T05:40:17.403244Z"
    },
    "papermill": {
     "duration": 4.123127,
     "end_time": "2022-02-01T13:21:18.410087",
     "exception": false,
     "start_time": "2022-02-01T13:21:14.286960",
     "status": "completed"
    },
    "tags": []
   },
   "outputs": [],
   "source": [
    "data = pd.concat([bnb[['Open','High','Low','Close','VWAP','Target']], \n",
    "                  btc[['Open','High','Low','Close','VWAP','Target']], \n",
    "                  bch[['Open','High','Low','Close','VWAP','Target']], \n",
    "                  ada[['Open','High','Low','Close','VWAP','Target']], \n",
    "                  doge[['Open','High','Low','Close','VWAP','Target']], \n",
    "                  eos[['Open','High','Low','Close','VWAP','Target']], \n",
    "                  eth[['Open','High','Low','Close','VWAP','Target']], \n",
    "                  etc[['Open','High','Low','Close','VWAP','Target']], \n",
    "                  miota[['Open','High','Low','Close','VWAP','Target']], \n",
    "                  ltc[['Open','High','Low','Close','VWAP','Target']], \n",
    "                  mkr[['Open','High','Low','Close','VWAP','Target']], \n",
    "                  xmr[['Open','High','Low','Close','VWAP','Target']], \n",
    "                  xlm[['Open','High','Low','Close','VWAP','Target']], \n",
    "                  trx[['Open','High','Low','Close','VWAP','Target']]], axis=1)"
   ]
  },
  {
   "cell_type": "code",
   "execution_count": 8,
   "id": "05eea618",
   "metadata": {
    "execution": {
     "iopub.execute_input": "2022-02-01T13:21:18.457939Z",
     "iopub.status.busy": "2022-02-01T13:21:18.452533Z",
     "iopub.status.idle": "2022-02-01T13:21:18.460973Z",
     "shell.execute_reply": "2022-02-01T13:21:18.460447Z",
     "shell.execute_reply.started": "2022-02-01T05:40:25.950728Z"
    },
    "papermill": {
     "duration": 0.031018,
     "end_time": "2022-02-01T13:21:18.461114",
     "exception": false,
     "start_time": "2022-02-01T13:21:18.430096",
     "status": "completed"
    },
    "tags": []
   },
   "outputs": [],
   "source": [
    "data.columns = ['Open-0', 'High-0', 'Low-0', 'Close-0', 'VWAP-0','Target_0',\n",
    "                 'Open-1', 'High-1', 'Low-1', 'Close-1', 'VWAP-1','Target_1',\n",
    "                 'Open-2', 'High-2', 'Low-2', 'Close-2', 'VWAP-2','Target_2',\n",
    "                 'Open-3', 'High-3', 'Low-3', 'Close-3', 'VWAP-3','Target_3',\n",
    "                 'Open-4', 'High-4', 'Low-4', 'Close-4', 'VWAP-4','Target_4',\n",
    "                 'Open-5', 'High-5', 'Low-5', 'Close-5', 'VWAP-5','Target_5',\n",
    "                 'Open-6', 'High-6', 'Low-6', 'Close-6', 'VWAP-6','Target_6',\n",
    "                 'Open-7', 'High-7', 'Low-7', 'Close-7', 'VWAP-7','Target_7',\n",
    "                 'Open-8', 'High-8', 'Low-8', 'Close-8', 'VWAP-8','Target_8',\n",
    "                 'Open-9', 'High-9', 'Low-9', 'Close-9', 'VWAP-9','Target_9',\n",
    "                 'Open-10', 'High-10', 'Low-10', 'Close-10', 'VWAP-10','Target_10',\n",
    "                 'Open-11', 'High-11', 'Low-11', 'Close-11', 'VWAP-11','Target_11',\n",
    "                 'Open-12', 'High-12', 'Low-12', 'Close-12', 'VWAP-12','Target_12',\n",
    "                 'Open-13', 'High-13', 'Low-13', 'Close-13', 'VWAP-13','Target_13']"
   ]
  },
  {
   "cell_type": "code",
   "execution_count": 9,
   "id": "727780df",
   "metadata": {
    "execution": {
     "iopub.execute_input": "2022-02-01T13:21:18.506259Z",
     "iopub.status.busy": "2022-02-01T13:21:18.505648Z",
     "iopub.status.idle": "2022-02-01T13:21:21.311308Z",
     "shell.execute_reply": "2022-02-01T13:21:21.311831Z",
     "shell.execute_reply.started": "2022-02-01T05:40:31.633713Z"
    },
    "papermill": {
     "duration": 2.831275,
     "end_time": "2022-02-01T13:21:21.312012",
     "exception": false,
     "start_time": "2022-02-01T13:21:18.480737",
     "status": "completed"
    },
    "tags": []
   },
   "outputs": [],
   "source": [
    "data = data.replace([np.inf, -np.inf], np.nan).dropna(how=\"any\")"
   ]
  },
  {
   "cell_type": "code",
   "execution_count": 10,
   "id": "5b29e2b8",
   "metadata": {
    "execution": {
     "iopub.execute_input": "2022-02-01T13:21:21.472551Z",
     "iopub.status.busy": "2022-02-01T13:21:21.367859Z",
     "iopub.status.idle": "2022-02-01T13:21:21.475828Z",
     "shell.execute_reply": "2022-02-01T13:21:21.475181Z",
     "shell.execute_reply.started": "2022-02-01T05:40:40.482762Z"
    },
    "papermill": {
     "duration": 0.137341,
     "end_time": "2022-02-01T13:21:21.475978",
     "exception": false,
     "start_time": "2022-02-01T13:21:21.338637",
     "status": "completed"
    },
    "tags": []
   },
   "outputs": [],
   "source": [
    "X_data = data[['Open-0', 'High-0', 'Low-0', 'Close-0', 'VWAP-0',\n",
    "                 'Open-1', 'High-1', 'Low-1', 'Close-1', 'VWAP-1',\n",
    "                 'Open-2', 'High-2', 'Low-2', 'Close-2', 'VWAP-2',\n",
    "                 'Open-3', 'High-3', 'Low-3', 'Close-3', 'VWAP-3',\n",
    "                 'Open-4', 'High-4', 'Low-4', 'Close-4', 'VWAP-4',\n",
    "                 'Open-5', 'High-5', 'Low-5', 'Close-5', 'VWAP-5',\n",
    "                 'Open-6', 'High-6', 'Low-6', 'Close-6', 'VWAP-6',\n",
    "                 'Open-7', 'High-7', 'Low-7', 'Close-7', 'VWAP-7',\n",
    "                 'Open-8', 'High-8', 'Low-8', 'Close-8', 'VWAP-8',\n",
    "                 'Open-9', 'High-9', 'Low-9', 'Close-9', 'VWAP-9',\n",
    "                 'Open-10', 'High-10', 'Low-10', 'Close-10', 'VWAP-10',\n",
    "                 'Open-11', 'High-11', 'Low-11', 'Close-11', 'VWAP-11',\n",
    "                 'Open-12', 'High-12', 'Low-12', 'Close-12', 'VWAP-12',\n",
    "                 'Open-13', 'High-13', 'Low-13', 'Close-13', 'VWAP-13']]"
   ]
  },
  {
   "cell_type": "code",
   "execution_count": 11,
   "id": "d8fd9ebb",
   "metadata": {
    "execution": {
     "iopub.execute_input": "2022-02-01T13:21:21.531758Z",
     "iopub.status.busy": "2022-02-01T13:21:21.529219Z",
     "iopub.status.idle": "2022-02-01T13:21:21.557775Z",
     "shell.execute_reply": "2022-02-01T13:21:21.558294Z",
     "shell.execute_reply.started": "2022-02-01T05:40:47.054945Z"
    },
    "papermill": {
     "duration": 0.053343,
     "end_time": "2022-02-01T13:21:21.558509",
     "exception": false,
     "start_time": "2022-02-01T13:21:21.505166",
     "status": "completed"
    },
    "tags": []
   },
   "outputs": [],
   "source": [
    "targets = data[['Target_0','Target_1','Target_2','Target_3','Target_4','Target_5','Target_6','Target_7',\n",
    "                     'Target_8','Target_9','Target_10','Target_11','Target_12','Target_13']]"
   ]
  },
  {
   "cell_type": "code",
   "execution_count": 12,
   "id": "5e242b6a",
   "metadata": {
    "execution": {
     "iopub.execute_input": "2022-02-01T13:21:21.600378Z",
     "iopub.status.busy": "2022-02-01T13:21:21.599766Z",
     "iopub.status.idle": "2022-02-01T13:21:21.627636Z",
     "shell.execute_reply": "2022-02-01T13:21:21.628123Z",
     "shell.execute_reply.started": "2022-02-01T05:41:11.738493Z"
    },
    "papermill": {
     "duration": 0.050382,
     "end_time": "2022-02-01T13:21:21.628301",
     "exception": false,
     "start_time": "2022-02-01T13:21:21.577919",
     "status": "completed"
    },
    "tags": []
   },
   "outputs": [],
   "source": [
    "train = X_data.loc[train_data_start : ]\n",
    "y_train = targets.loc[train_data_start : ]\n",
    "\n",
    "#test = X_data.loc[train_data_end : ]\n",
    "#y_test = targets.loc[train_data_end : ]"
   ]
  },
  {
   "cell_type": "code",
   "execution_count": 13,
   "id": "6344a7e9",
   "metadata": {
    "execution": {
     "iopub.execute_input": "2022-02-01T13:21:21.671087Z",
     "iopub.status.busy": "2022-02-01T13:21:21.670124Z",
     "iopub.status.idle": "2022-02-01T13:21:22.022035Z",
     "shell.execute_reply": "2022-02-01T13:21:22.021412Z",
     "shell.execute_reply.started": "2022-02-01T05:41:25.380776Z"
    },
    "papermill": {
     "duration": 0.374067,
     "end_time": "2022-02-01T13:21:22.022176",
     "exception": false,
     "start_time": "2022-02-01T13:21:21.648109",
     "status": "completed"
    },
    "tags": []
   },
   "outputs": [],
   "source": [
    "from sklearn import preprocessing\n",
    "from sklearn.preprocessing import MinMaxScaler\n",
    "\n",
    "scaler = MinMaxScaler()\n",
    "\n",
    "scaler.fit(train)\n",
    "\n",
    "X_train = pd.DataFrame(scaler.transform(train), columns = train.columns)"
   ]
  },
  {
   "cell_type": "code",
   "execution_count": 14,
   "id": "64d1df96",
   "metadata": {
    "execution": {
     "iopub.execute_input": "2022-02-01T13:21:22.064747Z",
     "iopub.status.busy": "2022-02-01T13:21:22.063768Z",
     "iopub.status.idle": "2022-02-01T13:21:22.068233Z",
     "shell.execute_reply": "2022-02-01T13:21:22.068737Z",
     "shell.execute_reply.started": "2022-02-01T05:42:52.627454Z"
    },
    "papermill": {
     "duration": 0.027169,
     "end_time": "2022-02-01T13:21:22.068899",
     "exception": false,
     "start_time": "2022-02-01T13:21:22.041730",
     "status": "completed"
    },
    "tags": []
   },
   "outputs": [],
   "source": [
    "import os, gc\n",
    "from sklearn.metrics import mean_squared_error, roc_auc_score, roc_curve\n",
    "from tqdm.notebook import tqdm\n",
    "\n",
    "import tensorflow as tf\n",
    "import tensorflow.keras.backend as K\n",
    "import tensorflow.keras.layers as layers"
   ]
  },
  {
   "cell_type": "code",
   "execution_count": 15,
   "id": "891d41a3",
   "metadata": {
    "execution": {
     "iopub.execute_input": "2022-02-01T13:21:22.111582Z",
     "iopub.status.busy": "2022-02-01T13:21:22.110638Z",
     "iopub.status.idle": "2022-02-01T13:21:22.121437Z",
     "shell.execute_reply": "2022-02-01T13:21:22.121957Z",
     "shell.execute_reply.started": "2022-02-01T05:42:55.497523Z"
    },
    "papermill": {
     "duration": 0.033743,
     "end_time": "2022-02-01T13:21:22.122124",
     "exception": false,
     "start_time": "2022-02-01T13:21:22.088381",
     "status": "completed"
    },
    "tags": []
   },
   "outputs": [],
   "source": [
    "def correlation_coefficient_loss(y_true, y_pred):\n",
    "    x = tf.cast(y_true, tf.float64)\n",
    "    y = tf.cast(y_pred, tf.float64)\n",
    "    w = tf.cast(weights, tf.float64)\n",
    "    \n",
    "    mean_x = K.mean(x, axis = 0)\n",
    "    w_mean_x = K.sum(tf.multiply(mean_x, w)) / K.sum(w) #mean_a\n",
    "    \n",
    "    mean_y = K.mean(y, axis = 0)\n",
    "    w_mean_y = K.sum(tf.multiply(mean_y, w)) / K.sum(w) #mean_b\n",
    "    \n",
    "    mean_xy = K.mean(tf.multiply(x, y), axis = 0)\n",
    "    cov = K.sum(tf.multiply(mean_xy, w)) / K.sum(w) - w_mean_x * w_mean_y #cov\n",
    "    \n",
    "    xm, ym = x - w_mean_x, y - w_mean_y\n",
    "    \n",
    "    mean_xx = K.mean(K.square(xm), axis = 0)\n",
    "    var_x = K.sum(tf.multiply(mean_xx, w)) / K.sum(w)\n",
    "    \n",
    "    mean_yy = K.mean(K.square(ym), axis = 0)\n",
    "    var_y = K.sum(tf.multiply(mean_yy, w)) / K.sum(w)\n",
    "    \n",
    "    r = cov / K.sqrt(var_x * var_y)\n",
    "    r = K.maximum(K.minimum(r, 1.0), -1.0)\n",
    "    return 1 - K.square(r)"
   ]
  },
  {
   "cell_type": "code",
   "execution_count": 16,
   "id": "302a3a72",
   "metadata": {
    "execution": {
     "iopub.execute_input": "2022-02-01T13:21:22.167986Z",
     "iopub.status.busy": "2022-02-01T13:21:22.167032Z",
     "iopub.status.idle": "2022-02-01T13:21:22.169945Z",
     "shell.execute_reply": "2022-02-01T13:21:22.169303Z",
     "shell.execute_reply.started": "2022-02-01T05:43:02.450047Z"
    },
    "papermill": {
     "duration": 0.028336,
     "end_time": "2022-02-01T13:21:22.170080",
     "exception": false,
     "start_time": "2022-02-01T13:21:22.141744",
     "status": "completed"
    },
    "tags": []
   },
   "outputs": [],
   "source": [
    "SEED = 1977\n",
    "tf.random.set_seed(SEED)\n",
    "np.random.seed(SEED)"
   ]
  },
  {
   "cell_type": "code",
   "execution_count": 17,
   "id": "d562856c",
   "metadata": {
    "execution": {
     "iopub.execute_input": "2022-02-01T13:21:22.219807Z",
     "iopub.status.busy": "2022-02-01T13:21:22.218789Z",
     "iopub.status.idle": "2022-02-01T13:21:22.221280Z",
     "shell.execute_reply": "2022-02-01T13:21:22.220805Z",
     "shell.execute_reply.started": "2022-02-01T05:43:36.070040Z"
    },
    "papermill": {
     "duration": 0.031698,
     "end_time": "2022-02-01T13:21:22.221437",
     "exception": false,
     "start_time": "2022-02-01T13:21:22.189739",
     "status": "completed"
    },
    "tags": []
   },
   "outputs": [],
   "source": [
    "def create_mlp(num_columns, num_labels, hidden_units, dropout_rates, learning_rate):\n",
    "    \n",
    "    inp = tf.keras.layers.Input(shape = (num_columns, ))\n",
    "    x = tf.keras.layers.BatchNormalization()(inp)\n",
    "    x = tf.keras.layers.Dropout(dropout_rates[0])(x)\n",
    "    for i in range(len(hidden_units)): \n",
    "        x = tf.keras.layers.Dense(hidden_units[i])(x)\n",
    "        x = tf.keras.layers.BatchNormalization()(x)\n",
    "        x = tf.keras.layers.Activation(tf.keras.activations.swish)(x)\n",
    "        x = tf.keras.layers.Dropout(dropout_rates[i+1])(x)    \n",
    "        \n",
    "    out = tf.keras.layers.Dense(num_labels)(x)\n",
    "    #out = tf.keras.layers.Activation('linear')(x)\n",
    "    \n",
    "    model = tf.keras.models.Model(inputs = inp, outputs = out)\n",
    "    model.compile(optimizer = tf.keras.optimizers.Adam(learning_rate = learning_rate),\n",
    "                  loss = correlation_coefficient_loss, \n",
    "                  metrics = tf.keras.metrics.RootMeanSquaredError(name=\"root_mean_squared_error\", dtype=None), \n",
    "                 )\n",
    "    \n",
    "    return model"
   ]
  },
  {
   "cell_type": "code",
   "execution_count": 18,
   "id": "c16403f9",
   "metadata": {
    "execution": {
     "iopub.execute_input": "2022-02-01T13:21:22.266299Z",
     "iopub.status.busy": "2022-02-01T13:21:22.265581Z",
     "iopub.status.idle": "2022-02-01T13:29:42.091203Z",
     "shell.execute_reply": "2022-02-01T13:29:42.091832Z",
     "shell.execute_reply.started": "2022-02-01T05:47:28.517115Z"
    },
    "papermill": {
     "duration": 499.851093,
     "end_time": "2022-02-01T13:29:42.092015",
     "exception": false,
     "start_time": "2022-02-01T13:21:22.240922",
     "status": "completed"
    },
    "tags": []
   },
   "outputs": [
    {
     "name": "stderr",
     "output_type": "stream",
     "text": [
      "2022-02-01 13:21:22.302854: I tensorflow/compiler/jit/xla_cpu_device.cc:41] Not creating XLA devices, tf_xla_enable_xla_devices not set\n",
      "2022-02-01 13:21:22.306033: W tensorflow/stream_executor/platform/default/dso_loader.cc:60] Could not load dynamic library 'libcuda.so.1'; dlerror: libcuda.so.1: cannot open shared object file: No such file or directory; LD_LIBRARY_PATH: /opt/conda/lib\n",
      "2022-02-01 13:21:22.306065: W tensorflow/stream_executor/cuda/cuda_driver.cc:326] failed call to cuInit: UNKNOWN ERROR (303)\n",
      "2022-02-01 13:21:22.306094: I tensorflow/stream_executor/cuda/cuda_diagnostics.cc:156] kernel driver does not appear to be running on this host (33161cbd5dbe): /proc/driver/nvidia/version does not exist\n",
      "2022-02-01 13:21:22.307178: I tensorflow/core/platform/cpu_feature_guard.cc:142] This TensorFlow binary is optimized with oneAPI Deep Neural Network Library (oneDNN) to use the following CPU instructions in performance-critical operations:  AVX2 FMA\n",
      "To enable them in other operations, rebuild TensorFlow with the appropriate compiler flags.\n",
      "2022-02-01 13:21:22.307485: I tensorflow/compiler/jit/xla_gpu_device.cc:99] Not creating XLA devices, tf_xla_enable_xla_devices not set\n"
     ]
    },
    {
     "name": "stdout",
     "output_type": "stream",
     "text": [
      "Model: \"model\"\n",
      "_________________________________________________________________\n",
      "Layer (type)                 Output Shape              Param #   \n",
      "=================================================================\n",
      "input_1 (InputLayer)         [(None, 70)]              0         \n",
      "_________________________________________________________________\n",
      "batch_normalization (BatchNo (None, 70)                280       \n",
      "_________________________________________________________________\n",
      "dropout (Dropout)            (None, 70)                0         \n",
      "_________________________________________________________________\n",
      "dense (Dense)                (None, 30)                2130      \n",
      "_________________________________________________________________\n",
      "batch_normalization_1 (Batch (None, 30)                120       \n",
      "_________________________________________________________________\n",
      "activation (Activation)      (None, 30)                0         \n",
      "_________________________________________________________________\n",
      "dropout_1 (Dropout)          (None, 30)                0         \n",
      "_________________________________________________________________\n",
      "dense_1 (Dense)              (None, 50)                1550      \n",
      "_________________________________________________________________\n",
      "batch_normalization_2 (Batch (None, 50)                200       \n",
      "_________________________________________________________________\n",
      "activation_1 (Activation)    (None, 50)                0         \n",
      "_________________________________________________________________\n",
      "dropout_2 (Dropout)          (None, 50)                0         \n",
      "_________________________________________________________________\n",
      "dense_2 (Dense)              (None, 30)                1530      \n",
      "_________________________________________________________________\n",
      "batch_normalization_3 (Batch (None, 30)                120       \n",
      "_________________________________________________________________\n",
      "activation_2 (Activation)    (None, 30)                0         \n",
      "_________________________________________________________________\n",
      "dropout_3 (Dropout)          (None, 30)                0         \n",
      "_________________________________________________________________\n",
      "dense_3 (Dense)              (None, 14)                434       \n",
      "=================================================================\n",
      "Total params: 6,364\n",
      "Trainable params: 6,004\n",
      "Non-trainable params: 360\n",
      "_________________________________________________________________\n"
     ]
    },
    {
     "name": "stderr",
     "output_type": "stream",
     "text": [
      "2022-02-01 13:21:22.921848: W tensorflow/core/framework/cpu_allocator_impl.cc:80] Allocation of 311639440 exceeds 10% of free system memory.\n",
      "2022-02-01 13:21:23.282847: I tensorflow/compiler/mlir/mlir_graph_optimization_pass.cc:116] None of the MLIR optimization passes are enabled (registered 2)\n",
      "2022-02-01 13:21:23.296488: I tensorflow/core/platform/profile_utils/cpu_utils.cc:112] CPU Frequency: 2199995000 Hz\n"
     ]
    },
    {
     "name": "stdout",
     "output_type": "stream",
     "text": [
      "Epoch 1/200\n",
      "56/56 [==============================] - 4s 43ms/step - loss: 1.0000 - root_mean_squared_error: 0.7799\n",
      "Epoch 2/200\n",
      "56/56 [==============================] - 2s 44ms/step - loss: 1.0000 - root_mean_squared_error: 0.8304\n",
      "Epoch 3/200\n",
      "56/56 [==============================] - 2s 44ms/step - loss: 1.0000 - root_mean_squared_error: 0.9004\n",
      "Epoch 4/200\n",
      "56/56 [==============================] - 2s 43ms/step - loss: 0.9999 - root_mean_squared_error: 1.0101\n",
      "Epoch 5/200\n",
      "56/56 [==============================] - 2s 43ms/step - loss: 0.9999 - root_mean_squared_error: 1.1058\n",
      "Epoch 6/200\n",
      "56/56 [==============================] - 2s 42ms/step - loss: 0.9998 - root_mean_squared_error: 1.2061\n",
      "Epoch 7/200\n",
      "56/56 [==============================] - 2s 43ms/step - loss: 0.9997 - root_mean_squared_error: 1.2363\n",
      "Epoch 8/200\n",
      "56/56 [==============================] - 2s 44ms/step - loss: 0.9997 - root_mean_squared_error: 1.2640\n",
      "Epoch 9/200\n",
      "56/56 [==============================] - 2s 43ms/step - loss: 0.9996 - root_mean_squared_error: 1.2503\n",
      "Epoch 10/200\n",
      "56/56 [==============================] - 2s 44ms/step - loss: 0.9996 - root_mean_squared_error: 1.2056\n",
      "Epoch 11/200\n",
      "56/56 [==============================] - 3s 45ms/step - loss: 0.9995 - root_mean_squared_error: 1.1825\n",
      "Epoch 12/200\n",
      "56/56 [==============================] - 2s 44ms/step - loss: 0.9995 - root_mean_squared_error: 1.1709\n",
      "Epoch 13/200\n",
      "56/56 [==============================] - 2s 42ms/step - loss: 0.9995 - root_mean_squared_error: 1.1846\n",
      "Epoch 14/200\n",
      "56/56 [==============================] - 2s 43ms/step - loss: 0.9994 - root_mean_squared_error: 1.1637\n",
      "Epoch 15/200\n",
      "56/56 [==============================] - 2s 43ms/step - loss: 0.9994 - root_mean_squared_error: 1.1601\n",
      "Epoch 16/200\n",
      "56/56 [==============================] - 2s 42ms/step - loss: 0.9993 - root_mean_squared_error: 1.1678\n",
      "Epoch 17/200\n",
      "56/56 [==============================] - 2s 44ms/step - loss: 0.9992 - root_mean_squared_error: 1.0973\n",
      "Epoch 18/200\n",
      "56/56 [==============================] - 2s 43ms/step - loss: 0.9993 - root_mean_squared_error: 1.2322\n",
      "Epoch 19/200\n",
      "56/56 [==============================] - 2s 43ms/step - loss: 0.9993 - root_mean_squared_error: 1.1582\n",
      "Epoch 20/200\n",
      "56/56 [==============================] - 2s 43ms/step - loss: 0.9992 - root_mean_squared_error: 1.1893\n",
      "Epoch 21/200\n",
      "56/56 [==============================] - 2s 43ms/step - loss: 0.9993 - root_mean_squared_error: 1.1577\n",
      "Epoch 22/200\n",
      "56/56 [==============================] - 2s 43ms/step - loss: 0.9992 - root_mean_squared_error: 1.1178\n",
      "Epoch 23/200\n",
      "56/56 [==============================] - 2s 43ms/step - loss: 0.9991 - root_mean_squared_error: 1.0897\n",
      "Epoch 24/200\n",
      "56/56 [==============================] - 3s 49ms/step - loss: 0.9992 - root_mean_squared_error: 1.1421\n",
      "Epoch 25/200\n",
      "56/56 [==============================] - 2s 43ms/step - loss: 0.9993 - root_mean_squared_error: 1.1209\n",
      "Epoch 26/200\n",
      "56/56 [==============================] - 2s 43ms/step - loss: 0.9991 - root_mean_squared_error: 1.0575\n",
      "Epoch 27/200\n",
      "56/56 [==============================] - 2s 43ms/step - loss: 0.9989 - root_mean_squared_error: 1.1412\n",
      "Epoch 28/200\n",
      "56/56 [==============================] - 3s 45ms/step - loss: 0.9992 - root_mean_squared_error: 0.9843\n",
      "Epoch 29/200\n",
      "56/56 [==============================] - 2s 44ms/step - loss: 0.9991 - root_mean_squared_error: 1.0745\n",
      "Epoch 30/200\n",
      "56/56 [==============================] - 2s 42ms/step - loss: 0.9992 - root_mean_squared_error: 1.0624\n",
      "Epoch 31/200\n",
      "56/56 [==============================] - 2s 43ms/step - loss: 0.9989 - root_mean_squared_error: 0.9774\n",
      "Epoch 32/200\n",
      "56/56 [==============================] - 2s 42ms/step - loss: 0.9988 - root_mean_squared_error: 0.9592\n",
      "Epoch 33/200\n",
      "56/56 [==============================] - 2s 43ms/step - loss: 0.9987 - root_mean_squared_error: 0.9930\n",
      "Epoch 34/200\n",
      "56/56 [==============================] - 2s 43ms/step - loss: 0.9991 - root_mean_squared_error: 0.9892\n",
      "Epoch 35/200\n",
      "56/56 [==============================] - 2s 43ms/step - loss: 0.9988 - root_mean_squared_error: 0.9303\n",
      "Epoch 36/200\n",
      "56/56 [==============================] - 2s 43ms/step - loss: 0.9990 - root_mean_squared_error: 0.8808\n",
      "Epoch 37/200\n",
      "56/56 [==============================] - 2s 44ms/step - loss: 0.9986 - root_mean_squared_error: 0.8752\n",
      "Epoch 38/200\n",
      "56/56 [==============================] - 3s 46ms/step - loss: 0.9988 - root_mean_squared_error: 0.8620\n",
      "Epoch 39/200\n",
      "56/56 [==============================] - 2s 42ms/step - loss: 0.9988 - root_mean_squared_error: 0.9707\n",
      "Epoch 40/200\n",
      "56/56 [==============================] - 2s 43ms/step - loss: 0.9988 - root_mean_squared_error: 0.8900\n",
      "Epoch 41/200\n",
      "56/56 [==============================] - 2s 42ms/step - loss: 0.9985 - root_mean_squared_error: 0.8576\n",
      "Epoch 42/200\n",
      "56/56 [==============================] - 2s 43ms/step - loss: 0.9988 - root_mean_squared_error: 0.9027\n",
      "Epoch 43/200\n",
      "56/56 [==============================] - 2s 43ms/step - loss: 0.9986 - root_mean_squared_error: 0.8225\n",
      "Epoch 44/200\n",
      "56/56 [==============================] - 3s 50ms/step - loss: 0.9985 - root_mean_squared_error: 0.8418\n",
      "Epoch 45/200\n",
      "56/56 [==============================] - 3s 52ms/step - loss: 0.9982 - root_mean_squared_error: 0.8406\n",
      "Epoch 46/200\n",
      "56/56 [==============================] - 2s 43ms/step - loss: 0.9987 - root_mean_squared_error: 0.7521\n",
      "Epoch 47/200\n",
      "56/56 [==============================] - 2s 43ms/step - loss: 0.9987 - root_mean_squared_error: 0.7407\n",
      "Epoch 48/200\n",
      "56/56 [==============================] - 2s 44ms/step - loss: 0.9986 - root_mean_squared_error: 0.7085\n",
      "Epoch 49/200\n",
      "56/56 [==============================] - 3s 45ms/step - loss: 0.9987 - root_mean_squared_error: 0.7441\n",
      "Epoch 50/200\n",
      "56/56 [==============================] - 2s 43ms/step - loss: 0.9987 - root_mean_squared_error: 0.7989\n",
      "Epoch 51/200\n",
      "56/56 [==============================] - 3s 47ms/step - loss: 0.9987 - root_mean_squared_error: 0.6862\n",
      "Epoch 52/200\n",
      "56/56 [==============================] - 2s 43ms/step - loss: 0.9987 - root_mean_squared_error: 0.7804\n",
      "Epoch 53/200\n",
      "56/56 [==============================] - 2s 44ms/step - loss: 0.9986 - root_mean_squared_error: 0.7283\n",
      "Epoch 54/200\n",
      "56/56 [==============================] - 2s 43ms/step - loss: 0.9986 - root_mean_squared_error: 0.6712\n",
      "Epoch 55/200\n",
      "56/56 [==============================] - 2s 43ms/step - loss: 0.9988 - root_mean_squared_error: 0.6593\n",
      "Epoch 56/200\n",
      "56/56 [==============================] - 2s 43ms/step - loss: 0.9985 - root_mean_squared_error: 0.6944\n",
      "Epoch 57/200\n",
      "56/56 [==============================] - 3s 46ms/step - loss: 0.9984 - root_mean_squared_error: 0.6117\n",
      "Epoch 58/200\n",
      "56/56 [==============================] - 2s 43ms/step - loss: 0.9987 - root_mean_squared_error: 0.6766\n",
      "Epoch 59/200\n",
      "56/56 [==============================] - 2s 43ms/step - loss: 0.9987 - root_mean_squared_error: 0.5971\n",
      "Epoch 60/200\n",
      "56/56 [==============================] - 2s 43ms/step - loss: 0.9984 - root_mean_squared_error: 0.6847\n",
      "Epoch 61/200\n",
      "56/56 [==============================] - 2s 43ms/step - loss: 0.9985 - root_mean_squared_error: 0.5927\n",
      "Epoch 62/200\n",
      "56/56 [==============================] - 3s 46ms/step - loss: 0.9984 - root_mean_squared_error: 0.6925\n",
      "Epoch 63/200\n",
      "56/56 [==============================] - 2s 43ms/step - loss: 0.9983 - root_mean_squared_error: 0.5795\n",
      "Epoch 64/200\n",
      "56/56 [==============================] - 3s 46ms/step - loss: 0.9981 - root_mean_squared_error: 0.6548\n",
      "Epoch 65/200\n",
      "56/56 [==============================] - 2s 43ms/step - loss: 0.9982 - root_mean_squared_error: 0.6613\n",
      "Epoch 66/200\n",
      "56/56 [==============================] - 2s 44ms/step - loss: 0.9986 - root_mean_squared_error: 0.5688\n",
      "Epoch 67/200\n",
      "56/56 [==============================] - 2s 43ms/step - loss: 0.9980 - root_mean_squared_error: 0.6109\n",
      "Epoch 68/200\n",
      "56/56 [==============================] - 2s 43ms/step - loss: 0.9983 - root_mean_squared_error: 0.5744\n",
      "Epoch 69/200\n",
      "56/56 [==============================] - 2s 43ms/step - loss: 0.9981 - root_mean_squared_error: 0.5496\n",
      "Epoch 70/200\n",
      "56/56 [==============================] - 2s 43ms/step - loss: 0.9985 - root_mean_squared_error: 0.5237\n",
      "Epoch 71/200\n",
      "56/56 [==============================] - 2s 44ms/step - loss: 0.9978 - root_mean_squared_error: 0.6151\n",
      "Epoch 72/200\n",
      "56/56 [==============================] - 2s 43ms/step - loss: 0.9984 - root_mean_squared_error: 0.5325\n",
      "Epoch 73/200\n",
      "56/56 [==============================] - 2s 44ms/step - loss: 0.9978 - root_mean_squared_error: 0.5748\n",
      "Epoch 74/200\n",
      "56/56 [==============================] - 3s 46ms/step - loss: 0.9985 - root_mean_squared_error: 0.5614\n",
      "Epoch 75/200\n",
      "56/56 [==============================] - 3s 46ms/step - loss: 0.9983 - root_mean_squared_error: 0.5865\n",
      "Epoch 76/200\n",
      "56/56 [==============================] - 3s 46ms/step - loss: 0.9982 - root_mean_squared_error: 0.5451\n",
      "Epoch 77/200\n",
      "56/56 [==============================] - 2s 44ms/step - loss: 0.9981 - root_mean_squared_error: 0.5626\n",
      "Epoch 78/200\n",
      "56/56 [==============================] - 3s 46ms/step - loss: 0.9979 - root_mean_squared_error: 0.5241\n",
      "Epoch 79/200\n",
      "56/56 [==============================] - 2s 43ms/step - loss: 0.9983 - root_mean_squared_error: 0.5599\n",
      "Epoch 80/200\n",
      "56/56 [==============================] - 2s 44ms/step - loss: 0.9984 - root_mean_squared_error: 0.5611\n",
      "Epoch 81/200\n",
      "56/56 [==============================] - 2s 43ms/step - loss: 0.9984 - root_mean_squared_error: 0.5994\n",
      "Epoch 82/200\n",
      "56/56 [==============================] - 2s 44ms/step - loss: 0.9983 - root_mean_squared_error: 0.5815\n",
      "Epoch 83/200\n",
      "56/56 [==============================] - 2s 44ms/step - loss: 0.9984 - root_mean_squared_error: 0.5638\n",
      "Epoch 84/200\n",
      "56/56 [==============================] - 2s 45ms/step - loss: 0.9986 - root_mean_squared_error: 0.5844\n",
      "Epoch 85/200\n",
      "56/56 [==============================] - 2s 43ms/step - loss: 0.9978 - root_mean_squared_error: 0.5711\n",
      "Epoch 86/200\n",
      "56/56 [==============================] - 2s 44ms/step - loss: 0.9983 - root_mean_squared_error: 0.6013\n",
      "Epoch 87/200\n",
      "56/56 [==============================] - 3s 48ms/step - loss: 0.9984 - root_mean_squared_error: 0.5790\n",
      "Epoch 88/200\n",
      "56/56 [==============================] - 3s 45ms/step - loss: 0.9983 - root_mean_squared_error: 0.6038\n",
      "Epoch 89/200\n",
      "56/56 [==============================] - 3s 45ms/step - loss: 0.9979 - root_mean_squared_error: 0.5583\n",
      "Epoch 90/200\n",
      "56/56 [==============================] - 2s 45ms/step - loss: 0.9982 - root_mean_squared_error: 0.5055\n",
      "Epoch 91/200\n",
      "56/56 [==============================] - 3s 48ms/step - loss: 0.9976 - root_mean_squared_error: 0.5682\n",
      "Epoch 92/200\n",
      "56/56 [==============================] - 2s 43ms/step - loss: 0.9983 - root_mean_squared_error: 0.5125\n",
      "Epoch 93/200\n",
      "56/56 [==============================] - 3s 45ms/step - loss: 0.9978 - root_mean_squared_error: 0.5397\n",
      "Epoch 94/200\n",
      "56/56 [==============================] - 2s 44ms/step - loss: 0.9981 - root_mean_squared_error: 0.5534\n",
      "Epoch 95/200\n",
      "56/56 [==============================] - 2s 44ms/step - loss: 0.9981 - root_mean_squared_error: 0.5438\n",
      "Epoch 96/200\n",
      "56/56 [==============================] - 2s 44ms/step - loss: 0.9982 - root_mean_squared_error: 0.5816\n",
      "Epoch 97/200\n",
      "56/56 [==============================] - 3s 45ms/step - loss: 0.9982 - root_mean_squared_error: 0.5926\n",
      "Epoch 98/200\n",
      "56/56 [==============================] - 2s 44ms/step - loss: 0.9983 - root_mean_squared_error: 0.6315\n",
      "Epoch 99/200\n",
      "56/56 [==============================] - 3s 47ms/step - loss: 0.9976 - root_mean_squared_error: 0.5702\n",
      "Epoch 100/200\n",
      "56/56 [==============================] - 3s 45ms/step - loss: 0.9985 - root_mean_squared_error: 0.5124\n",
      "Epoch 101/200\n",
      "56/56 [==============================] - 2s 44ms/step - loss: 0.9982 - root_mean_squared_error: 0.5273\n",
      "Epoch 102/200\n",
      "56/56 [==============================] - 3s 45ms/step - loss: 0.9980 - root_mean_squared_error: 0.5471\n",
      "Epoch 103/200\n",
      "56/56 [==============================] - 2s 44ms/step - loss: 0.9980 - root_mean_squared_error: 0.5530\n",
      "Epoch 104/200\n",
      "56/56 [==============================] - 3s 49ms/step - loss: 0.9978 - root_mean_squared_error: 0.5617\n",
      "Epoch 105/200\n",
      "56/56 [==============================] - 3s 46ms/step - loss: 0.9979 - root_mean_squared_error: 0.5624\n",
      "Epoch 106/200\n",
      "56/56 [==============================] - 3s 45ms/step - loss: 0.9981 - root_mean_squared_error: 0.5023\n",
      "Epoch 107/200\n",
      "56/56 [==============================] - 2s 44ms/step - loss: 0.9981 - root_mean_squared_error: 0.5759\n",
      "Epoch 108/200\n",
      "56/56 [==============================] - 2s 44ms/step - loss: 0.9981 - root_mean_squared_error: 0.5456\n",
      "Epoch 109/200\n",
      "56/56 [==============================] - 2s 44ms/step - loss: 0.9981 - root_mean_squared_error: 0.5504\n",
      "Epoch 110/200\n",
      "56/56 [==============================] - 3s 45ms/step - loss: 0.9981 - root_mean_squared_error: 0.5888\n",
      "Epoch 111/200\n",
      "56/56 [==============================] - 2s 45ms/step - loss: 0.9985 - root_mean_squared_error: 0.5514\n",
      "Epoch 112/200\n",
      "56/56 [==============================] - 3s 50ms/step - loss: 0.9980 - root_mean_squared_error: 0.5809\n",
      "Epoch 113/200\n",
      "56/56 [==============================] - 2s 45ms/step - loss: 0.9979 - root_mean_squared_error: 0.5675\n",
      "Epoch 114/200\n",
      "56/56 [==============================] - 2s 44ms/step - loss: 0.9982 - root_mean_squared_error: 0.5671\n",
      "Epoch 115/200\n",
      "56/56 [==============================] - 3s 45ms/step - loss: 0.9979 - root_mean_squared_error: 0.5558\n",
      "Epoch 116/200\n",
      "56/56 [==============================] - 2s 44ms/step - loss: 0.9980 - root_mean_squared_error: 0.5400\n",
      "Epoch 117/200\n",
      "56/56 [==============================] - 3s 47ms/step - loss: 0.9980 - root_mean_squared_error: 0.5860\n",
      "Epoch 118/200\n",
      "56/56 [==============================] - 2s 43ms/step - loss: 0.9984 - root_mean_squared_error: 0.6010\n",
      "Epoch 119/200\n",
      "56/56 [==============================] - 2s 44ms/step - loss: 0.9978 - root_mean_squared_error: 0.5641\n",
      "Epoch 120/200\n",
      "56/56 [==============================] - 2s 43ms/step - loss: 0.9982 - root_mean_squared_error: 0.5849\n",
      "Epoch 121/200\n",
      "56/56 [==============================] - 2s 43ms/step - loss: 0.9978 - root_mean_squared_error: 0.5455\n",
      "Epoch 122/200\n",
      "56/56 [==============================] - 2s 44ms/step - loss: 0.9978 - root_mean_squared_error: 0.5875\n",
      "Epoch 123/200\n",
      "56/56 [==============================] - 2s 44ms/step - loss: 0.9977 - root_mean_squared_error: 0.5700\n",
      "Epoch 124/200\n",
      "56/56 [==============================] - 2s 44ms/step - loss: 0.9983 - root_mean_squared_error: 0.5892\n",
      "Epoch 125/200\n",
      "56/56 [==============================] - 3s 47ms/step - loss: 0.9978 - root_mean_squared_error: 0.6014\n",
      "Epoch 126/200\n",
      "56/56 [==============================] - 2s 43ms/step - loss: 0.9978 - root_mean_squared_error: 0.5897\n",
      "Epoch 127/200\n",
      "56/56 [==============================] - 2s 43ms/step - loss: 0.9978 - root_mean_squared_error: 0.6455\n",
      "Epoch 128/200\n",
      "56/56 [==============================] - 2s 44ms/step - loss: 0.9979 - root_mean_squared_error: 0.6337\n",
      "Epoch 129/200\n",
      "56/56 [==============================] - 2s 43ms/step - loss: 0.9978 - root_mean_squared_error: 0.5898\n",
      "Epoch 130/200\n",
      "56/56 [==============================] - 3s 46ms/step - loss: 0.9979 - root_mean_squared_error: 0.6092\n",
      "Epoch 131/200\n",
      "56/56 [==============================] - 2s 44ms/step - loss: 0.9980 - root_mean_squared_error: 0.6134\n",
      "Epoch 132/200\n",
      "56/56 [==============================] - 2s 44ms/step - loss: 0.9981 - root_mean_squared_error: 0.6247\n",
      "Epoch 133/200\n",
      "56/56 [==============================] - 2s 43ms/step - loss: 0.9976 - root_mean_squared_error: 0.5833\n",
      "Epoch 134/200\n",
      "56/56 [==============================] - 2s 43ms/step - loss: 0.9978 - root_mean_squared_error: 0.5702\n",
      "Epoch 135/200\n",
      "56/56 [==============================] - 2s 44ms/step - loss: 0.9977 - root_mean_squared_error: 0.5616\n",
      "Epoch 136/200\n",
      "56/56 [==============================] - 2s 44ms/step - loss: 0.9975 - root_mean_squared_error: 0.5819\n",
      "Epoch 137/200\n",
      "56/56 [==============================] - 3s 45ms/step - loss: 0.9977 - root_mean_squared_error: 0.5748\n",
      "Epoch 138/200\n",
      "56/56 [==============================] - 3s 46ms/step - loss: 0.9981 - root_mean_squared_error: 0.5798\n",
      "Epoch 139/200\n",
      "56/56 [==============================] - 2s 43ms/step - loss: 0.9977 - root_mean_squared_error: 0.6320\n",
      "Epoch 140/200\n",
      "56/56 [==============================] - 2s 44ms/step - loss: 0.9978 - root_mean_squared_error: 0.5924\n",
      "Epoch 141/200\n",
      "56/56 [==============================] - 2s 44ms/step - loss: 0.9979 - root_mean_squared_error: 0.5941\n",
      "Epoch 142/200\n",
      "56/56 [==============================] - 2s 43ms/step - loss: 0.9972 - root_mean_squared_error: 0.6009\n",
      "Epoch 143/200\n",
      "56/56 [==============================] - 2s 44ms/step - loss: 0.9975 - root_mean_squared_error: 0.5597\n",
      "Epoch 144/200\n",
      "56/56 [==============================] - 3s 48ms/step - loss: 0.9978 - root_mean_squared_error: 0.6004\n",
      "Epoch 145/200\n",
      "56/56 [==============================] - 2s 43ms/step - loss: 0.9980 - root_mean_squared_error: 0.5948\n",
      "Epoch 146/200\n",
      "56/56 [==============================] - 2s 44ms/step - loss: 0.9975 - root_mean_squared_error: 0.6388\n",
      "Epoch 147/200\n",
      "56/56 [==============================] - 2s 43ms/step - loss: 0.9974 - root_mean_squared_error: 0.6188\n",
      "Epoch 148/200\n",
      "56/56 [==============================] - 2s 44ms/step - loss: 0.9982 - root_mean_squared_error: 0.5960\n",
      "Epoch 149/200\n",
      "56/56 [==============================] - 2s 43ms/step - loss: 0.9974 - root_mean_squared_error: 0.5899\n",
      "Epoch 150/200\n",
      "56/56 [==============================] - 3s 46ms/step - loss: 0.9983 - root_mean_squared_error: 0.5936\n",
      "Epoch 151/200\n",
      "56/56 [==============================] - 3s 47ms/step - loss: 0.9982 - root_mean_squared_error: 0.6430\n",
      "Epoch 152/200\n",
      "56/56 [==============================] - 2s 44ms/step - loss: 0.9976 - root_mean_squared_error: 0.6197\n",
      "Epoch 153/200\n",
      "56/56 [==============================] - 2s 44ms/step - loss: 0.9970 - root_mean_squared_error: 0.6178\n",
      "Epoch 154/200\n",
      "56/56 [==============================] - 3s 45ms/step - loss: 0.9971 - root_mean_squared_error: 0.5988\n",
      "Epoch 155/200\n",
      "56/56 [==============================] - 3s 46ms/step - loss: 0.9974 - root_mean_squared_error: 0.5941\n",
      "Epoch 156/200\n",
      "56/56 [==============================] - 2s 45ms/step - loss: 0.9977 - root_mean_squared_error: 0.5854\n",
      "Epoch 157/200\n",
      "56/56 [==============================] - 3s 48ms/step - loss: 0.9979 - root_mean_squared_error: 0.6287\n",
      "Epoch 158/200\n",
      "56/56 [==============================] - 2s 44ms/step - loss: 0.9976 - root_mean_squared_error: 0.5529\n",
      "Epoch 159/200\n",
      "56/56 [==============================] - 2s 45ms/step - loss: 0.9976 - root_mean_squared_error: 0.5416\n",
      "Epoch 160/200\n",
      "56/56 [==============================] - 2s 44ms/step - loss: 0.9979 - root_mean_squared_error: 0.5737\n",
      "Epoch 161/200\n",
      "56/56 [==============================] - 2s 44ms/step - loss: 0.9985 - root_mean_squared_error: 0.5978\n",
      "Epoch 162/200\n",
      "56/56 [==============================] - 2s 44ms/step - loss: 0.9979 - root_mean_squared_error: 0.6070\n",
      "Epoch 163/200\n",
      "56/56 [==============================] - 3s 48ms/step - loss: 0.9979 - root_mean_squared_error: 0.5808\n",
      "Epoch 164/200\n",
      "56/56 [==============================] - 3s 47ms/step - loss: 0.9974 - root_mean_squared_error: 0.5674\n",
      "Epoch 165/200\n",
      "56/56 [==============================] - 2s 44ms/step - loss: 0.9976 - root_mean_squared_error: 0.5605\n",
      "Epoch 166/200\n",
      "56/56 [==============================] - 2s 44ms/step - loss: 0.9974 - root_mean_squared_error: 0.5390\n",
      "Epoch 167/200\n",
      "56/56 [==============================] - 3s 45ms/step - loss: 0.9975 - root_mean_squared_error: 0.5579\n",
      "Epoch 168/200\n",
      "56/56 [==============================] - 2s 44ms/step - loss: 0.9976 - root_mean_squared_error: 0.5814\n",
      "Epoch 169/200\n",
      "56/56 [==============================] - 2s 44ms/step - loss: 0.9976 - root_mean_squared_error: 0.5908\n",
      "Epoch 170/200\n",
      "56/56 [==============================] - 3s 48ms/step - loss: 0.9978 - root_mean_squared_error: 0.5932\n",
      "Epoch 171/200\n",
      "56/56 [==============================] - 2s 44ms/step - loss: 0.9978 - root_mean_squared_error: 0.6125\n",
      "Epoch 172/200\n",
      "56/56 [==============================] - 2s 45ms/step - loss: 0.9978 - root_mean_squared_error: 0.5657\n",
      "Epoch 173/200\n",
      "56/56 [==============================] - 2s 43ms/step - loss: 0.9979 - root_mean_squared_error: 0.5693\n",
      "Epoch 174/200\n",
      "56/56 [==============================] - 2s 43ms/step - loss: 0.9974 - root_mean_squared_error: 0.6125\n",
      "Epoch 175/200\n",
      "56/56 [==============================] - 2s 43ms/step - loss: 0.9976 - root_mean_squared_error: 0.5469\n",
      "Epoch 176/200\n",
      "56/56 [==============================] - 3s 47ms/step - loss: 0.9975 - root_mean_squared_error: 0.6016\n",
      "Epoch 177/200\n",
      "56/56 [==============================] - 3s 47ms/step - loss: 0.9978 - root_mean_squared_error: 0.6064\n",
      "Epoch 178/200\n",
      "56/56 [==============================] - 2s 43ms/step - loss: 0.9972 - root_mean_squared_error: 0.5678\n",
      "Epoch 179/200\n",
      "56/56 [==============================] - 2s 44ms/step - loss: 0.9970 - root_mean_squared_error: 0.6253\n",
      "Epoch 180/200\n",
      "56/56 [==============================] - 2s 44ms/step - loss: 0.9973 - root_mean_squared_error: 0.5656\n",
      "Epoch 181/200\n",
      "56/56 [==============================] - 2s 45ms/step - loss: 0.9976 - root_mean_squared_error: 0.5596\n",
      "Epoch 182/200\n",
      "56/56 [==============================] - 2s 43ms/step - loss: 0.9981 - root_mean_squared_error: 0.5841\n",
      "Epoch 183/200\n",
      "56/56 [==============================] - 3s 48ms/step - loss: 0.9974 - root_mean_squared_error: 0.5723\n",
      "Epoch 184/200\n",
      "56/56 [==============================] - 2s 44ms/step - loss: 0.9977 - root_mean_squared_error: 0.5657\n",
      "Epoch 185/200\n",
      "56/56 [==============================] - 2s 44ms/step - loss: 0.9971 - root_mean_squared_error: 0.5296\n",
      "Epoch 186/200\n",
      "56/56 [==============================] - 2s 44ms/step - loss: 0.9974 - root_mean_squared_error: 0.5959\n",
      "Epoch 187/200\n",
      "56/56 [==============================] - 2s 43ms/step - loss: 0.9975 - root_mean_squared_error: 0.5730\n",
      "Epoch 188/200\n",
      "56/56 [==============================] - 2s 44ms/step - loss: 0.9976 - root_mean_squared_error: 0.6109\n",
      "Epoch 189/200\n",
      "56/56 [==============================] - 3s 46ms/step - loss: 0.9978 - root_mean_squared_error: 0.6249\n",
      "Epoch 190/200\n",
      "56/56 [==============================] - 3s 48ms/step - loss: 0.9976 - root_mean_squared_error: 0.6269\n",
      "Epoch 191/200\n",
      "56/56 [==============================] - 2s 43ms/step - loss: 0.9975 - root_mean_squared_error: 0.6361\n",
      "Epoch 192/200\n",
      "56/56 [==============================] - 2s 44ms/step - loss: 0.9976 - root_mean_squared_error: 0.5867\n",
      "Epoch 193/200\n",
      "56/56 [==============================] - 2s 44ms/step - loss: 0.9979 - root_mean_squared_error: 0.6126\n",
      "Epoch 194/200\n",
      "56/56 [==============================] - 2s 44ms/step - loss: 0.9974 - root_mean_squared_error: 0.5980\n",
      "Epoch 195/200\n",
      "56/56 [==============================] - 2s 44ms/step - loss: 0.9974 - root_mean_squared_error: 0.6043\n",
      "Epoch 196/200\n",
      "56/56 [==============================] - 3s 48ms/step - loss: 0.9975 - root_mean_squared_error: 0.6176\n",
      "Epoch 197/200\n",
      "56/56 [==============================] - 2s 44ms/step - loss: 0.9975 - root_mean_squared_error: 0.5673\n",
      "Epoch 198/200\n",
      "56/56 [==============================] - 3s 45ms/step - loss: 0.9974 - root_mean_squared_error: 0.6134\n",
      "Epoch 199/200\n",
      "56/56 [==============================] - 2s 44ms/step - loss: 0.9978 - root_mean_squared_error: 0.6314\n",
      "Epoch 200/200\n",
      "56/56 [==============================] - 2s 44ms/step - loss: 0.9975 - root_mean_squared_error: 0.5845\n",
      "CPU times: user 21min 51s, sys: 1min 23s, total: 23min 14s\n",
      "Wall time: 8min 19s\n"
     ]
    },
    {
     "data": {
      "text/plain": [
       "<tensorflow.python.keras.callbacks.History at 0x7ff41039fb10>"
      ]
     },
     "execution_count": 18,
     "metadata": {},
     "output_type": "execute_result"
    }
   ],
   "source": [
    "%%time\n",
    "\n",
    "batch_size = 10000\n",
    "hidden_units = [30, 50, 30]\n",
    "dropout_rates = [0.2, 0.2, 0.2, 0.2] #one more than layers\n",
    "learning_rate = 1e-3\n",
    "    \n",
    "model = create_mlp(X_train.shape[1], y_train.shape[1], hidden_units, dropout_rates, learning_rate)\n",
    "model.summary()\n",
    "    \n",
    "model.fit(X_train, y_train, epochs = 200, batch_size = batch_size, callbacks = None, verbose = 1)\n"
   ]
  },
  {
   "cell_type": "code",
   "execution_count": 19,
   "id": "a32ae8ff",
   "metadata": {
    "execution": {
     "iopub.execute_input": "2022-02-01T13:29:45.885644Z",
     "iopub.status.busy": "2022-02-01T13:29:45.884970Z",
     "iopub.status.idle": "2022-02-01T13:29:45.887438Z",
     "shell.execute_reply": "2022-02-01T13:29:45.887910Z",
     "shell.execute_reply.started": "2022-01-31T04:10:22.480521Z"
    },
    "papermill": {
     "duration": 1.90592,
     "end_time": "2022-02-01T13:29:45.888096",
     "exception": false,
     "start_time": "2022-02-01T13:29:43.982176",
     "status": "completed"
    },
    "tags": []
   },
   "outputs": [],
   "source": [
    "env = gresearch_crypto.make_env()"
   ]
  },
  {
   "cell_type": "code",
   "execution_count": 20,
   "id": "07b016d5",
   "metadata": {
    "execution": {
     "iopub.execute_input": "2022-02-01T13:29:50.172240Z",
     "iopub.status.busy": "2022-02-01T13:29:50.171545Z",
     "iopub.status.idle": "2022-02-01T13:29:50.174419Z",
     "shell.execute_reply": "2022-02-01T13:29:50.173832Z",
     "shell.execute_reply.started": "2022-01-31T04:10:22.505677Z"
    },
    "papermill": {
     "duration": 2.284415,
     "end_time": "2022-02-01T13:29:50.174581",
     "exception": false,
     "start_time": "2022-02-01T13:29:47.890166",
     "status": "completed"
    },
    "tags": []
   },
   "outputs": [],
   "source": [
    "iter_test = env.iter_test()"
   ]
  },
  {
   "cell_type": "code",
   "execution_count": 21,
   "id": "ac3bc3b9",
   "metadata": {
    "execution": {
     "iopub.execute_input": "2022-02-01T13:29:54.043435Z",
     "iopub.status.busy": "2022-02-01T13:29:54.042651Z",
     "iopub.status.idle": "2022-02-01T13:29:54.468644Z",
     "shell.execute_reply": "2022-02-01T13:29:54.467904Z",
     "shell.execute_reply.started": "2022-01-31T04:10:22.521463Z"
    },
    "papermill": {
     "duration": 2.368619,
     "end_time": "2022-02-01T13:29:54.468797",
     "exception": false,
     "start_time": "2022-02-01T13:29:52.100178",
     "status": "completed"
    },
    "tags": []
   },
   "outputs": [
    {
     "name": "stdout",
     "output_type": "stream",
     "text": [
      "This version of the API is not optimized and should not be used to estimate the runtime of your code on the hidden test set.\n"
     ]
    }
   ],
   "source": [
    "for (test_df, sample_prediction_df) in iter_test:\n",
    "    sample = test_df[['Asset_ID','Open','High','Low','Close','VWAP']]\n",
    "    sample = sample.set_index(\"Asset_ID\")\n",
    "    \n",
    "    for i in range(14):\n",
    "        if i not in sample.index:\n",
    "            sample = sample.append(means.iloc[i])\n",
    "    \n",
    "    sample = sample.sort_values(by = ['Asset_ID'])\n",
    "    x_test = sample.stack().to_frame().T\n",
    "    x_test_scaled = pd.DataFrame(scaler.transform(x_test), columns = train.columns)\n",
    "    \n",
    "    y_pred = model.predict(x_test_scaled)\n",
    "    \n",
    "    for j,row in test_df.iterrows():\n",
    "         sample_prediction_df.loc[sample_prediction_df['row_id'] == row['row_id'], 'Target'] = y_pred[0][int(row['Asset_ID'])]\n",
    "    env.predict(sample_prediction_df)"
   ]
  }
 ],
 "metadata": {
  "kernelspec": {
   "display_name": "Python 3",
   "language": "python",
   "name": "python3"
  },
  "language_info": {
   "codemirror_mode": {
    "name": "ipython",
    "version": 3
   },
   "file_extension": ".py",
   "mimetype": "text/x-python",
   "name": "python",
   "nbconvert_exporter": "python",
   "pygments_lexer": "ipython3",
   "version": "3.7.10"
  },
  "papermill": {
   "default_parameters": {},
   "duration": 615.203232,
   "end_time": "2022-02-01T13:29:59.080014",
   "environment_variables": {},
   "exception": null,
   "input_path": "__notebook__.ipynb",
   "output_path": "__notebook__.ipynb",
   "parameters": {},
   "start_time": "2022-02-01T13:19:43.876782",
   "version": "2.3.3"
  }
 },
 "nbformat": 4,
 "nbformat_minor": 5
}
